{
 "cells": [
  {
   "cell_type": "code",
   "execution_count": 16,
   "id": "63064f5b-39da-4725-90a3-cdcf2ea0485e",
   "metadata": {},
   "outputs": [
    {
     "name": "stdin",
     "output_type": "stream",
     "text": [
      " 3\n"
     ]
    },
    {
     "name": "stdout",
     "output_type": "stream",
     "text": [
      "Gurobi Optimizer version 11.0.2 build v11.0.2rc0 (win64 - Windows 10.0 (17134.2))\n",
      "\n",
      "CPU model: Intel(R) Core(TM) i3-5010U CPU @ 2.10GHz, instruction set [SSE2|AVX|AVX2]\n",
      "Thread count: 2 physical cores, 4 logical processors, using up to 4 threads\n",
      "\n",
      "Optimize a model with 7 rows, 9 columns and 24 nonzeros\n",
      "Model fingerprint: 0xda91b5ec\n",
      "Variable types: 0 continuous, 9 integer (0 binary)\n",
      "Coefficient statistics:\n",
      "  Matrix range     [1e+00, 1e+00]\n",
      "  Objective range  [0e+00, 0e+00]\n",
      "  Bounds range     [1e+00, 9e+00]\n",
      "  RHS range        [0e+00, 0e+00]\n",
      "Found heuristic solution: objective 0.0000000\n",
      "\n",
      "Explored 0 nodes (0 simplex iterations) in 0.05 seconds (0.00 work units)\n",
      "Thread count was 1 (of 4 available processors)\n",
      "\n",
      "Solution count 1: 0 \n",
      "\n",
      "Optimal solution found (tolerance 1.00e-04)\n",
      "Best objective 0.000000000000e+00, best bound 0.000000000000e+00, gap 0.0000%\n",
      "1 1 1 \n",
      "1 1 1 \n",
      "1 1 1 \n"
     ]
    }
   ],
   "source": [
    "from gurobipy import *\n",
    "num = int(input())\n",
    "model = Model()\n",
    "x = model.addVars(num, num, vtype=GRB.INTEGER, name='x', lb=1, ub=num*num)\n",
    "i = 0\n",
    "j = 0\n",
    "for i in range(num):\n",
    "   if i < num - 1: \n",
    "    model.addConstr(quicksum(x[i,m] for m in range(num)) == quicksum(x[i + 1, m] for m in range(num))) #hàng này bằng hàng tiếp theo\n",
    "    model.addConstr(quicksum(x[m,i + 1] for m in range(num)) == quicksum(x[m, i + 1] for m in range(num))) #cột này bằng cột tiếp theo\n",
    "m = 0\n",
    "model.addConstr(quicksum(x[0, m] for m in range(num)) == quicksum(x[m,0] for m in range(num)))\n",
    "model.addConstr(quicksum(x[m, m] for m in range(num))== quicksum(x[0,m] for m in range(num)))\n",
    "model.addConstr(quicksum(x[num - l - 1, l] for l in range(num)) == quicksum(x[0,m] for m in range(num)))\n",
    "model.setObjective(0, GRB.MINIMIZE)\n",
    "model.optimize()\n",
    "for i in range(num):\n",
    "    for j in range(num):\n",
    "        print(int(x[i, j].x), end=\" \")\n",
    "    print()"
   ]
  },
  {
   "cell_type": "code",
   "execution_count": null,
   "id": "116b37ef-9115-43b0-8549-959e2d56eeec",
   "metadata": {},
   "outputs": [],
   "source": []
  }
 ],
 "metadata": {
  "kernelspec": {
   "display_name": "Python 3 (ipykernel)",
   "language": "python",
   "name": "python3"
  },
  "language_info": {
   "codemirror_mode": {
    "name": "ipython",
    "version": 3
   },
   "file_extension": ".py",
   "mimetype": "text/x-python",
   "name": "python",
   "nbconvert_exporter": "python",
   "pygments_lexer": "ipython3",
   "version": "3.11.5"
  }
 },
 "nbformat": 4,
 "nbformat_minor": 5
}
