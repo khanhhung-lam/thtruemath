{
 "cells": [
  {
   "cell_type": "code",
   "execution_count": 22,
   "id": "d6c5dae2-3bec-47d4-b331-e592984115d1",
   "metadata": {
    "scrolled": true
   },
   "outputs": [
    {
     "name": "stdin",
     "output_type": "stream",
     "text": [
      " 7\n"
     ]
    },
    {
     "name": "stdout",
     "output_type": "stream",
     "text": [
      "Gurobi Optimizer version 11.0.2 build v11.0.2rc0 (win64 - Windows 11.0 (22631.2))\n",
      "\n",
      "CPU model: 11th Gen Intel(R) Core(TM) i7-11800H @ 2.30GHz, instruction set [SSE2|AVX|AVX2|AVX512]\n",
      "Thread count: 8 physical cores, 16 logical processors, using up to 16 threads\n",
      "\n",
      "Optimize a model with 42 rows, 49 columns and 210 nonzeros\n",
      "Model fingerprint: 0x31a1cec5\n",
      "Variable types: 0 continuous, 49 integer (49 binary)\n",
      "Coefficient statistics:\n",
      "  Matrix range     [1e+00, 1e+00]\n",
      "  Objective range  [1e+00, 1e+00]\n",
      "  Bounds range     [1e+00, 1e+00]\n",
      "  RHS range        [2e+00, 2e+00]\n",
      "Found heuristic solution: objective 10.0000000\n",
      "Presolve removed 10 rows and 0 columns\n",
      "Presolve time: 0.00s\n",
      "Presolved: 32 rows, 49 columns, 184 nonzeros\n",
      "Variable types: 0 continuous, 49 integer (49 binary)\n",
      "\n",
      "Root relaxation: objective 1.400000e+01, 26 iterations, 0.00 seconds (0.00 work units)\n",
      "\n",
      "    Nodes    |    Current Node    |     Objective Bounds      |     Work\n",
      " Expl Unexpl |  Obj  Depth IntInf | Incumbent    BestBd   Gap | It/Node Time\n",
      "\n",
      "H    0     0                      14.0000000   49.00000   250%     -    0s\n",
      "     0     0          -    0        14.00000   14.00000  0.00%     -    0s\n",
      "\n",
      "Explored 1 nodes (38 simplex iterations) in 0.02 seconds (0.00 work units)\n",
      "Thread count was 16 (of 16 available processors)\n",
      "\n",
      "Solution count 2: 14 10 \n",
      "\n",
      "Optimal solution found (tolerance 1.00e-04)\n",
      "Best objective 1.400000000000e+01, best bound 1.400000000000e+01, gap 0.0000%\n",
      "14.0\n",
      "0.0 0.0 1.0 1.0 0.0 0.0 0.0 \n",
      "0.0 0.0 0.0 0.0 0.0 1.0 1.0 \n",
      "1.0 1.0 0.0 0.0 0.0 0.0 0.0 \n",
      "0.0 0.0 1.0 0.0 0.0 0.0 1.0 \n",
      "1.0 0.0 0.0 0.0 1.0 0.0 0.0 \n",
      "0.0 1.0 0.0 0.0 0.0 1.0 0.0 \n",
      "0.0 0.0 0.0 1.0 1.0 0.0 0.0 \n",
      "0.01900005340576172\n"
     ]
    }
   ],
   "source": [
    "from gurobipy import *\n",
    "num = int(input())\n",
    "model = Model()\n",
    "x = model.addVars(num, num, vtype = GRB.BINARY, name = 'x')\n",
    "i = 0\n",
    "j = 0\n",
    "for i in range(num):\n",
    "    model.addConstr(quicksum(x[i,m] for m in range(num)) <= 2) #hàng dọc\n",
    "    model.addConstr(quicksum(x[i + m, j + m] for m in range(num - i)) <= 2)\n",
    "    model.addConstr(quicksum(x[num - i - 1 + m, num - 1 - m] for m in range(i + 1))  <= 2)\n",
    "i = 0\n",
    "j = 0\n",
    "for j in range(num):\n",
    "    model.addConstr(quicksum(x[m,j] for m in range(num)) <= 2) #hàng ngang\n",
    "    model.addConstr(quicksum(x[i + m, j + m] for m in range(num - j)) <= 2)\n",
    "    model.addConstr(quicksum(x[i + m, j - m] for m in range(j + 1))  <= 2)\n",
    "obj_fn = quicksum(x[m,n] for m in range(num) for n in range(num))\n",
    "model.setObjective(obj_fn, GRB.MAXIMIZE)\n",
    "model.optimize()\n",
    "print(model.objVal)\n",
    "for i in range(num):\n",
    "    for j in range(num):\n",
    "        print(abs(x[i,j].x), end = ' ')\n",
    "    print()\n",
    "print(model.runtime)"
   ]
  },
  {
   "cell_type": "code",
   "execution_count": null,
   "id": "4d9f8bdf-15b9-4250-bd3f-d799b5b2cb1e",
   "metadata": {},
   "outputs": [],
   "source": []
  }
 ],
 "metadata": {
  "kernelspec": {
   "display_name": "Python 3 (ipykernel)",
   "language": "python",
   "name": "python3"
  },
  "language_info": {
   "codemirror_mode": {
    "name": "ipython",
    "version": 3
   },
   "file_extension": ".py",
   "mimetype": "text/x-python",
   "name": "python",
   "nbconvert_exporter": "python",
   "pygments_lexer": "ipython3",
   "version": "3.10.14"
  }
 },
 "nbformat": 4,
 "nbformat_minor": 5
}
