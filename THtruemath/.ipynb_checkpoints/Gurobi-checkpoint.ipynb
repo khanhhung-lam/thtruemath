{
 "cells": [
  {
   "cell_type": "code",
   "execution_count": 1,
   "id": "4db396d9",
   "metadata": {},
   "outputs": [
    {
     "data": {
      "text/plain": [
       "<gurobi.Model Continuous instance Unnamed: 0 constrs, 0 vars, Parameter changes: Username=(user-defined)>"
      ]
     },
     "execution_count": 1,
     "metadata": {},
     "output_type": "execute_result"
    }
   ],
   "source": [
    "from gurobipy import *\n",
    "Model()"
   ]
  },
  {
   "cell_type": "code",
   "execution_count": 2,
   "id": "fd277bc7",
   "metadata": {},
   "outputs": [
    {
     "name": "stdout",
     "output_type": "stream",
     "text": [
      "Gurobi Optimizer version 11.0.2 build v11.0.2rc0 (win64 - Windows 11.0 (22631.2))\n",
      "\n",
      "CPU model: 11th Gen Intel(R) Core(TM) i7-11800H @ 2.30GHz, instruction set [SSE2|AVX|AVX2|AVX512]\n",
      "Thread count: 8 physical cores, 16 logical processors, using up to 16 threads\n",
      "\n",
      "Optimize a model with 3 rows, 3 columns and 7 nonzeros\n",
      "Model fingerprint: 0x8a1c7e4e\n",
      "Variable types: 1 continuous, 2 integer (1 binary)\n",
      "Coefficient statistics:\n",
      "  Matrix range     [1e+00, 2e+00]\n",
      "  Objective range  [1e+00, 3e+00]\n",
      "  Bounds range     [1e+00, 1e+00]\n",
      "  RHS range        [1e+00, 5e+00]\n",
      "Found heuristic solution: objective 3.5000000\n",
      "Presolve removed 3 rows and 3 columns\n",
      "Presolve time: 0.01s\n",
      "Presolve: All rows and columns removed\n",
      "\n",
      "Explored 0 nodes (0 simplex iterations) in 0.02 seconds (0.00 work units)\n",
      "Thread count was 1 (of 16 available processors)\n",
      "\n",
      "Solution count 2: 8.5 3.5 \n",
      "\n",
      "Optimal solution found (tolerance 1.00e-04)\n",
      "Best objective 8.500000000000e+00, best bound 8.500000000000e+00, gap 0.0000%\n",
      "Objective Function Value: 8.50\n",
      "x: 1\n",
      "y: 0.5\n",
      "z: 2\n"
     ]
    }
   ],
   "source": [
    "#1 Import gurobi package\n",
    "from gurobipy import *\n",
    "#2 create an optimization model\n",
    "milp_model = Model(\"milp\")\n",
    "#3 add decision variables: x={0,1} -> Binary, y>=0 -> Continuous, zeZ -> Integer\n",
    "x = milp_model.addVar(vtype=GRB.BINARY, name =\"x\")\n",
    "y = milp_model.addVar(vtype=GRB.CONTINUOUS, lb=0, name =\"y\")\n",
    "z = milp_model.addVar(vtype=GRB.INTEGER, lb=0, name =\"z\")\n",
    "#4 define the objective function\n",
    "obj_fn = 2 * x + y + 3 * z\n",
    "milp_model.setObjective(obj_fn, GRB.MAXIMIZE)\n",
    "#5 add the constraints \n",
    "c1 = milp_model.addConstr(x + 2 * y + z <= 4, \"c1\")\n",
    "c2 = milp_model.addConstr(2 * z + y <= 5, \"c2\")\n",
    "c3 = milp_model.addConstr(x + y >= 1, \"c3\")\n",
    "#6 solve the model\n",
    "milp_model.optimize()\n",
    "#7 output the result\n",
    "print('Objective Function Value: %.2f' % milp_model.objVal)\n",
    "#8 get values of the decision variables\n",
    "for v in milp_model.getVars():\n",
    "    print ('%s: %g' % (v.varName, v.x))"
   ]
  },
  {
   "cell_type": "code",
   "execution_count": 4,
   "id": "e456634f",
   "metadata": {},
   "outputs": [
    {
     "name": "stdout",
     "output_type": "stream",
     "text": [
      "Gurobi Optimizer version 11.0.2 build v11.0.2rc0 (win64 - Windows 11.0 (22631.2))\n",
      "\n",
      "CPU model: 11th Gen Intel(R) Core(TM) i7-11800H @ 2.30GHz, instruction set [SSE2|AVX|AVX2|AVX512]\n",
      "Thread count: 8 physical cores, 16 logical processors, using up to 16 threads\n",
      "\n",
      "Optimize a model with 3 rows, 3 columns and 9 nonzeros\n",
      "Model fingerprint: 0x711de7d4\n",
      "Coefficient statistics:\n",
      "  Matrix range     [1e+00, 5e+00]\n",
      "  Objective range  [3e+00, 5e+00]\n",
      "  Bounds range     [0e+00, 0e+00]\n",
      "  RHS range        [8e+00, 3e+01]\n",
      "Presolve time: 0.00s\n",
      "Presolved: 3 rows, 3 columns, 9 nonzeros\n",
      "\n",
      "Iteration    Objective       Primal Inf.    Dual Inf.      Time\n",
      "       0    0.0000000e+00   1.675000e+01   0.000000e+00      0s\n",
      "       1    2.4000000e+01   0.000000e+00   0.000000e+00      0s\n",
      "\n",
      "Solved in 1 iterations and 0.01 seconds (0.00 work units)\n",
      "Optimal objective  2.400000000e+01\n",
      "Objective Function Value: 24.000000\n",
      "x: 0\n",
      "y: 0\n",
      "z: 8\n"
     ]
    }
   ],
   "source": [
    "#1\n",
    "from gurobipy import *\n",
    "#2\n",
    "Model()\n",
    "opt_mod = Model(name = \"linear program\")\n",
    "#3\n",
    "x = opt_mod.addVar(name = 'x', vtype = GRB.CONTINUOUS, lb = 0)\n",
    "y = opt_mod.addVar(name = 'y', vtype = GRB.CONTINUOUS, lb = 0)\n",
    "z = opt_mod.addVar(name = 'z', vtype = GRB.CONTINUOUS, lb = 0)\n",
    "#4\n",
    "obj_fn = 5*x + 4*y + 3*z\n",
    "opt_mod.setObjective(obj_fn, GRB.MINIMIZE)\n",
    "#5\n",
    "c1 = opt_mod.addConstr( x + y + z>=  8, name = 'c1')\n",
    "c2 = opt_mod.addConstr(2*x + y + 2*z>= 10, name = 'c2')\n",
    "c3 = opt_mod.addConstr(x + 4*y + 5*z>= 30, name = 'c3')\n",
    "#6\n",
    "opt_mod.optimize() #solve the model\n",
    "opt_mod.write(\"linear_model.lp\") #output the LP file of the model\n",
    "#7\n",
    "print('Objective Function Value: %f' % opt_mod.objVal)\n",
    "#Get values of the decision variables\n",
    "for v in opt_mod.getVars():\n",
    "    print('%s: %g' % (v.varName, v.x))"
   ]
  },
  {
   "cell_type": "code",
   "execution_count": null,
   "id": "c6282960",
   "metadata": {},
   "outputs": [],
   "source": []
  }
 ],
 "metadata": {
  "kernelspec": {
   "display_name": "Python 3 (ipykernel)",
   "language": "python",
   "name": "python3"
  },
  "language_info": {
   "codemirror_mode": {
    "name": "ipython",
    "version": 3
   },
   "file_extension": ".py",
   "mimetype": "text/x-python",
   "name": "python",
   "nbconvert_exporter": "python",
   "pygments_lexer": "ipython3",
   "version": "3.10.14"
  }
 },
 "nbformat": 4,
 "nbformat_minor": 5
}
